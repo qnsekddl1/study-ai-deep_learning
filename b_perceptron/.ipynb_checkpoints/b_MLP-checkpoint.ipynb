{
 "cells": [
  {
   "cell_type": "markdown",
   "id": "522f3f95-badf-457e-a204-eaa81f6c59f2",
   "metadata": {},
   "source": [
    "### Multi Layer Perceptron, 다층 퍼셉트론, 다중 퍼셉트론  \n",
    "- 보다 복잡한 문제의 해결을 위해서 입력층과 출력층 사이에 은닉층이 포함되어 있다.\n",
    "- 퍼셉트론을 여러층 쌓은 인공 신경망으로서, 각 층에서는 활성 함수를 통해 입력을 처리한다.\n",
    "- 층이 깊어질 수록 정확한 분류가 가능해지지만, 너무 깊어지면 Overfitting이 발생한다.\n",
    "\n",
    "<div style=\"display: flex\">\r\n",
    "    <div>\r\n",
    "        <img src=\"./images/mlp01.png\" width=\"500\" style=\"margin-left: -30px\">\r\n",
    "    </div>\r\n",
    "    <div>\r\n",
    "        <img src=\"./images/mlp02.png\" width=\"600\" style=\"margin-top:50px; margin-left: -30px\">\r\n",
    "    </div>\r\n",
    "</div> "
   ]
  }
 ],
 "metadata": {
  "kernelspec": {
   "display_name": "Python 3 (ipykernel)",
   "language": "python",
   "name": "python3"
  },
  "language_info": {
   "codemirror_mode": {
    "name": "ipython",
    "version": 3
   },
   "file_extension": ".py",
   "mimetype": "text/x-python",
   "name": "python",
   "nbconvert_exporter": "python",
   "pygments_lexer": "ipython3",
   "version": "3.11.8"
  }
 },
 "nbformat": 4,
 "nbformat_minor": 5
}
