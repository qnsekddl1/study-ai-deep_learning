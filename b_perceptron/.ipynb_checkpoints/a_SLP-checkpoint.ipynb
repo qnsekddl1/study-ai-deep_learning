{
 "cells": [
  {
   "cell_type": "markdown",
   "id": "88053696-64db-49aa-8f92-e138614dafd9",
   "metadata": {},
   "source": [
    "### SLP(Single Layer Perceptron), 단층 퍼셉트론, 단일 퍼셉트론  \n",
    "\n",
    "- 가장 단순한 형태의 신경망으로서, Hidden Layer가 없고 Single Layer로 구성되어 있다.\n",
    "\n",
    "- 퍼셉트론의 구조는 입력 feature와 가중치, activation function, 출력 값으로 구성되어 있다.\n",
    "\n",
    "- 신경 세포에서 신호를 전달하는 축삭돌기의 역할을 퍼셉트론에서는 가중치가 대신하고, 입력 값과 가중치 값은 모두 인공 뉴런(활성 함수)으로 도착한다.\n",
    "\n",
    "- 가중치의 값이 클수록 해당 입력 값이 중요하다는 뜻이고, 인공뉴런(활성 함수)에 도착한 각 입력값과 가중치 값을 곱한 뒤 전체 합한 값을 구한다.\n",
    "\n",
    "- 인공 뉴런(활성 함수)은 보통 시그모이드 함수와 같은 계단 함수를 사용하여,\n",
    "합한 값을 확률로 반환하고 이때 임계치를 기준으로 0 또는 1을 출력한다.\n",
    "\n",
    "<img src=\"./images/perceptron01.png\" style=\"margin-left : 0\">  \n",
    "\n",
    "- 로지스틱 회귀 모델이 인공 신경망에서는 하나의 인공 뉴런으로 볼 수 있다.\n",
    "\n",
    "- 결과적으로 퍼셉트론은 회귀 모델과 마찬가지로 실제 값과 예측 값의 차이가 최소가 되는 가중치 값을 찾는 과정이 퍼셉트론이 학습하는 과정이다.\n",
    "\n",
    "- 최초 가중치 값을 설정한 뒤 입력 feature 값으로 예측 값을 계산하고, 실제 값과의 차이를 구한 뒤 이를 줄일 수 있도록 가중치 값을 변경한다.\n",
    "\n",
    "- 퍼셉트론의 활성화 정도를 편향(bias)으로 조절 할 수 있으며, 편향을 통해 어느정도의 자극을 미리 주고 시작 할 수 있다.\n",
    "\n",
    "- 만약에 뉴런이 활성화 되기 위해 필요한 자극이 1000이라고 가정하면, 입력 값을 500만 받아도 편향을 2로 주어 1000을 만들 수 있다.\n",
    "\n",
    "\n",
    "<div style=\"display: flex; width: 500px; margin-left: 20px;\">\r\n",
    "    <div style=\"width: 200px;\">\r\n",
    "        <img src=\"./images/perceptron02.png\" width=\"200px\" style=\"margin-top510px;\"> \r\n",
    "    </div>\r\n",
    "    <div style=\"width: 225px\">\r\n",
    "        <img src=\"./images/perceptron03.png\" width=\"225px\" style=\"margin-left: 50px;\">\r\n",
    "    </div>\r",
    "  \n",
    "\n",
    "\n",
    "\n",
    "- 퍼셉트론의 출력 값과 실제 값의 차이를 줄여나가는 방향성으로 계속해서 가중치 값을 변경하며, 이때 경사하강법을 사용한다./div>  "
   ]
  }
 ],
 "metadata": {
  "kernelspec": {
   "display_name": "Python 3 (ipykernel)",
   "language": "python",
   "name": "python3"
  },
  "language_info": {
   "codemirror_mode": {
    "name": "ipython",
    "version": 3
   },
   "file_extension": ".py",
   "mimetype": "text/x-python",
   "name": "python",
   "nbconvert_exporter": "python",
   "pygments_lexer": "ipython3",
   "version": "3.11.8"
  }
 },
 "nbformat": 4,
 "nbformat_minor": 5
}
